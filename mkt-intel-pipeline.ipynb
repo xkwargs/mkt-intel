{
 "cells": [
  {
   "cell_type": "code",
   "execution_count": 2,
   "metadata": {},
   "outputs": [],
   "source": [
    "from pyspark.sql import SparkSession\n",
    "\n",
    "import subprocess, os"
   ]
  },
  {
   "cell_type": "code",
   "execution_count": 2,
   "metadata": {},
   "outputs": [
    {
     "name": "stderr",
     "output_type": "stream",
     "text": [
      "Setting default log level to \"WARN\".\n",
      "To adjust logging level use sc.setLogLevel(newLevel). For SparkR, use setLogLevel(newLevel).\n",
      "24/02/24 14:30:23 WARN NativeCodeLoader: Unable to load native-hadoop library for your platform... using builtin-java classes where applicable\n"
     ]
    }
   ],
   "source": [
    "spark = (\n",
    "  SparkSession.builder\n",
    "  .master('local[*]')\n",
    "  .appName('Mkt Intel')\n",
    "  .config('spark.ui.port', '4050')\n",
    "  .getOrCreate()\n",
    ")"
   ]
  },
  {
   "cell_type": "markdown",
   "metadata": {},
   "source": [
    "## Get data from external sources"
   ]
  },
  {
   "cell_type": "code",
   "execution_count": 3,
   "metadata": {},
   "outputs": [],
   "source": [
    "#!wget --quiet --show-progress -r -np -R \"index.html*\" https://dadosabertos.rfb.gov.br/CNPJ/"
   ]
  },
  {
   "cell_type": "markdown",
   "metadata": {},
   "source": [
    "## Local transformation functions"
   ]
  },
  {
   "cell_type": "code",
   "execution_count": 8,
   "metadata": {},
   "outputs": [],
   "source": [
    "def fetch_files(folder_path):\n",
    "    files_list = []\n",
    "    for root, dirs, files in os.walk(folder_path):\n",
    "        for file in files:\n",
    "            if file.endswith('.zip'):\n",
    "                file_path = os.path.join(root, file)\n",
    "                files_list.append(file_path)\n",
    "    return files_list"
   ]
  },
  {
   "cell_type": "code",
   "execution_count": 9,
   "metadata": {},
   "outputs": [],
   "source": [
    "def unzip_files(zipped, unzipped):\n",
    "    try:\n",
    "        unix_commands = [\n",
    "            f'unzip -o {zipped} -d {unzipped}'\n",
    "        ]\n",
    "        for ucmd in unix_commands:\n",
    "            print(f'Running unix command: {ucmd}')\n",
    "            output = subprocess.run(ucmd, shell=True, capture_output=True, text=True)\n",
    "            if output.returncode == 0:\n",
    "                print(output.stdout)\n",
    "            else:\n",
    "                print(output.stderr)\n",
    "        return True\n",
    "    except Exception as e:\n",
    "        print(e)\n",
    "        return False\n"
   ]
  },
  {
   "cell_type": "markdown",
   "metadata": {},
   "source": [
    "## Main"
   ]
  },
  {
   "cell_type": "code",
   "execution_count": 10,
   "metadata": {},
   "outputs": [
    {
     "name": "stdout",
     "output_type": "stream",
     "text": [
      "['dadosabertos.rfb.gov.br/CNPJ/Estabelecimentos2.zip', 'dadosabertos.rfb.gov.br/CNPJ/Estabelecimentos3.zip', 'dadosabertos.rfb.gov.br/CNPJ/Estabelecimentos6.zip', 'dadosabertos.rfb.gov.br/CNPJ/Socios9.zip', 'dadosabertos.rfb.gov.br/CNPJ/Estabelecimentos5.zip', 'dadosabertos.rfb.gov.br/CNPJ/Empresas4.zip', 'dadosabertos.rfb.gov.br/CNPJ/Empresas9.zip', 'dadosabertos.rfb.gov.br/CNPJ/Socios7.zip', 'dadosabertos.rfb.gov.br/CNPJ/Estabelecimentos9.zip', 'dadosabertos.rfb.gov.br/CNPJ/Empresas5.zip', 'dadosabertos.rfb.gov.br/CNPJ/Municipios.zip', 'dadosabertos.rfb.gov.br/CNPJ/Empresas1.zip', 'dadosabertos.rfb.gov.br/CNPJ/Socios3.zip', 'dadosabertos.rfb.gov.br/CNPJ/Empresas8.zip', 'dadosabertos.rfb.gov.br/CNPJ/Paises.zip', 'dadosabertos.rfb.gov.br/CNPJ/Socios1.zip', 'dadosabertos.rfb.gov.br/CNPJ/Socios4.zip', 'dadosabertos.rfb.gov.br/CNPJ/Socios5.zip', 'dadosabertos.rfb.gov.br/CNPJ/Estabelecimentos8.zip', 'dadosabertos.rfb.gov.br/CNPJ/Empresas6.zip', 'dadosabertos.rfb.gov.br/CNPJ/Socios0.zip', 'dadosabertos.rfb.gov.br/CNPJ/Estabelecimentos7.zip', 'dadosabertos.rfb.gov.br/CNPJ/Socios8.zip', 'dadosabertos.rfb.gov.br/CNPJ/Empresas7.zip', 'dadosabertos.rfb.gov.br/CNPJ/Motivos.zip', 'dadosabertos.rfb.gov.br/CNPJ/Empresas2.zip', 'dadosabertos.rfb.gov.br/CNPJ/Qualificacoes.zip', 'dadosabertos.rfb.gov.br/CNPJ/Estabelecimentos0.zip', 'dadosabertos.rfb.gov.br/CNPJ/Empresas0.zip', 'dadosabertos.rfb.gov.br/CNPJ/Cnaes.zip', 'dadosabertos.rfb.gov.br/CNPJ/Simples.zip', 'dadosabertos.rfb.gov.br/CNPJ/Socios2.zip', 'dadosabertos.rfb.gov.br/CNPJ/Empresas3.zip', 'dadosabertos.rfb.gov.br/CNPJ/Naturezas.zip', 'dadosabertos.rfb.gov.br/CNPJ/Estabelecimentos1.zip', 'dadosabertos.rfb.gov.br/CNPJ/Estabelecimentos4.zip', 'dadosabertos.rfb.gov.br/CNPJ/Socios6.zip', 'dadosabertos.rfb.gov.br/CNPJ/regime_tributario/Lucro Arbitrado.zip', 'dadosabertos.rfb.gov.br/CNPJ/regime_tributario/Imunes e isentas.zip', 'dadosabertos.rfb.gov.br/CNPJ/regime_tributario/Lucro Presumido.zip', 'dadosabertos.rfb.gov.br/CNPJ/regime_tributario/Lucro Real.zip']\n"
     ]
    }
   ],
   "source": [
    "dados_abertos_zip_list = fetch_files('dadosabertos.rfb.gov.br/CNPJ/')\n",
    "print(dados_abertos_zip_list)"
   ]
  },
  {
   "cell_type": "code",
   "execution_count": null,
   "metadata": {},
   "outputs": [],
   "source": [
    "for item in dados_abertos_zip_list:\n",
    "    unzip_file()"
   ]
  }
 ],
 "metadata": {
  "kernelspec": {
   "display_name": "Python 3",
   "language": "python",
   "name": "python3"
  },
  "language_info": {
   "codemirror_mode": {
    "name": "ipython",
    "version": 3
   },
   "file_extension": ".py",
   "mimetype": "text/x-python",
   "name": "python",
   "nbconvert_exporter": "python",
   "pygments_lexer": "ipython3",
   "version": "3.9.2"
  }
 },
 "nbformat": 4,
 "nbformat_minor": 2
}
