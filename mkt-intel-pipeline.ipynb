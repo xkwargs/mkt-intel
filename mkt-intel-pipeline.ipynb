{
 "cells": [
  {
   "cell_type": "code",
   "execution_count": 2,
   "metadata": {},
   "outputs": [],
   "source": [
    "from pyspark.sql import SparkSession"
   ]
  },
  {
   "cell_type": "code",
   "execution_count": 4,
   "metadata": {},
   "outputs": [
    {
     "name": "stderr",
     "output_type": "stream",
     "text": [
      "Setting default log level to \"WARN\".\n",
      "To adjust logging level use sc.setLogLevel(newLevel). For SparkR, use setLogLevel(newLevel).\n",
      "24/02/23 21:43:45 WARN NativeCodeLoader: Unable to load native-hadoop library for your platform... using builtin-java classes where applicable\n"
     ]
    }
   ],
   "source": [
    "spark = (\n",
    "  SparkSession.builder\n",
    "  .master('local[*]')\n",
    "  .appName('Mkt Intel')\n",
    "  .config('spark.ui.port', '4050')\n",
    "  .getOrCreate()\n",
    ")"
   ]
  },
  {
   "cell_type": "markdown",
   "metadata": {},
   "source": [
    "## Get data from external sources"
   ]
  },
  {
   "cell_type": "code",
   "execution_count": 5,
   "metadata": {},
   "outputs": [
    {
     "name": "stdout",
     "output_type": "stream",
     "text": [
      "dadosabertos.rfb.go     [ <=>                ]   9.10K  --.-KB/s    in 0.03s   \n",
      "dadosabertos.rfb.go     [ <=>                ]   9.10K  --.-KB/s    in 0.02s   \n",
      "dadosabertos.rfb.go     [ <=>                ]   9.10K  --.-KB/s    in 0.009s  \n",
      "dadosabertos.rfb.go     [ <=>                ]   9.10K  --.-KB/s    in 0.02s   \n",
      "dadosabertos.rfb.go     [ <=>                ]   9.10K  --.-KB/s    in 0.01s   \n",
      "dadosabertos.rfb.go 100%[===================>]  21.56K  --.-KB/s    in 0.05s   \n",
      "sas0.zip              0%[                    ] 687.50K  25.0KB/s    eta 2h 16m "
     ]
    }
   ],
   "source": [
    "!wget --quiet --show-progress -r -np -R \"index.html*\" https://dadosabertos.rfb.gov.br/CNPJ/"
   ]
  }
 ],
 "metadata": {
  "kernelspec": {
   "display_name": "Python 3",
   "language": "python",
   "name": "python3"
  },
  "language_info": {
   "codemirror_mode": {
    "name": "ipython",
    "version": 3
   },
   "file_extension": ".py",
   "mimetype": "text/x-python",
   "name": "python",
   "nbconvert_exporter": "python",
   "pygments_lexer": "ipython3",
   "version": "3.9.2"
  }
 },
 "nbformat": 4,
 "nbformat_minor": 2
}
